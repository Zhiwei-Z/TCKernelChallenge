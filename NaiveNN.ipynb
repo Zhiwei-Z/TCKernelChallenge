{
 "cells": [
  {
   "cell_type": "code",
   "execution_count": 8,
   "metadata": {},
   "outputs": [],
   "source": [
    "from __future__ import absolute_import, division, print_function, unicode_literals\n",
    "\n",
    "# TensorFlow and tf.keras\n",
    "import tensorflow as tf\n",
    "from tensorflow import keras\n",
    "\n",
    "# Helper libraries\n",
    "import numpy as np\n",
    "import matplotlib.pyplot as plt\n",
    "import os\n"
   ]
  },
  {
   "cell_type": "code",
   "execution_count": 9,
   "metadata": {},
   "outputs": [
    {
     "name": "stdout",
     "output_type": "stream",
     "text": [
      "{'t1': 0, 't2': 1, 't3': 0, 't4': 0, 't5': 0, 't6': 1, 't7': 1, 't8': 1, 't9': 0}\n"
     ]
    }
   ],
   "source": [
    "def load_dictionary(file):\n",
    "    d = dict()\n",
    "    f = open(file, 'r')\n",
    "    lines = f.readlines()\n",
    "    for l in lines:\n",
    "        if l != '\\n':\n",
    "            il = l.split(\":\")\n",
    "            img = il[0]\n",
    "            label = int(il[1])\n",
    "            d[img] = label\n",
    "    return d\n",
    "\n",
    "d = load_dictionary('training_labels.txt')\n",
    "print(d)"
   ]
  },
  {
   "cell_type": "code",
   "execution_count": 10,
   "metadata": {},
   "outputs": [
    {
     "name": "stdout",
     "output_type": "stream",
     "text": [
      "(9, 2701) (9,)\n"
     ]
    }
   ],
   "source": [
    "def load_imgs(npy_dir, d):\n",
    "    \"\"\" load npy from npy_dir, append the label from d, which is a dictionary\n",
    "        output imgs and its corresponding labels\n",
    "    \"\"\"\n",
    "    imgs = np.array([])\n",
    "    labels = np.array([])\n",
    "    for file in os.listdir(npy_dir):\n",
    "        if file.endswith('.npy'):\n",
    "            img_arr = np.load(os.path.join(npy_dir, file))\n",
    "            if len(imgs) == 0:\n",
    "                imgs = img_arr\n",
    "            else:\n",
    "                imgs = np.vstack((imgs, img_arr))\n",
    "            labels = np.append(labels, d[os.path.splitext(file)[0]])\n",
    "    return imgs, labels\n",
    "\n",
    "train_imgs, train_labels = load_imgs('training_imgarr', d)\n",
    "print(train_imgs.shape, train_labels.shape)"
   ]
  },
  {
   "cell_type": "code",
   "execution_count": 15,
   "metadata": {},
   "outputs": [
    {
     "name": "stdout",
     "output_type": "stream",
     "text": [
      "Epoch 1/5\n",
      "9/9 [==============================] - 0s 12ms/sample - loss: 135.0103 - accuracy: 0.4444\n",
      "Epoch 2/5\n",
      "9/9 [==============================] - 0s 257us/sample - loss: 526.3369 - accuracy: 0.5556\n",
      "Epoch 3/5\n",
      "9/9 [==============================] - 0s 246us/sample - loss: 491.9813 - accuracy: 0.5556\n",
      "Epoch 4/5\n",
      "9/9 [==============================] - 0s 280us/sample - loss: 314.4066 - accuracy: 0.5556\n",
      "Epoch 5/5\n",
      "9/9 [==============================] - 0s 273us/sample - loss: 117.3347 - accuracy: 0.0000e+00\n"
     ]
    },
    {
     "data": {
      "text/plain": [
       "<tensorflow.python.keras.callbacks.History at 0xb2b3be8d0>"
      ]
     },
     "execution_count": 15,
     "metadata": {},
     "output_type": "execute_result"
    }
   ],
   "source": [
    "model = keras.Sequential([\n",
    "    keras.layers.Flatten(input_shape=(2701,)),\n",
    "    keras.layers.Dense(128, activation=tf.nn.relu),\n",
    "    keras.layers.Dense(10, activation=tf.nn.softmax)\n",
    "])\n",
    "model.compile(optimizer='adam',\n",
    "              loss='sparse_categorical_crossentropy',\n",
    "              metrics=['accuracy'])\n",
    "model.fit(train_imgs, train_labels, epochs=5)"
   ]
  },
  {
   "cell_type": "code",
   "execution_count": null,
   "metadata": {},
   "outputs": [],
   "source": []
  },
  {
   "cell_type": "code",
   "execution_count": null,
   "metadata": {},
   "outputs": [],
   "source": []
  },
  {
   "cell_type": "code",
   "execution_count": null,
   "metadata": {},
   "outputs": [],
   "source": []
  },
  {
   "cell_type": "code",
   "execution_count": null,
   "metadata": {},
   "outputs": [],
   "source": []
  },
  {
   "cell_type": "code",
   "execution_count": null,
   "metadata": {},
   "outputs": [],
   "source": []
  }
 ],
 "metadata": {
  "kernelspec": {
   "display_name": "Python 3",
   "language": "python",
   "name": "python3"
  },
  "language_info": {
   "codemirror_mode": {
    "name": "ipython",
    "version": 3
   },
   "file_extension": ".py",
   "mimetype": "text/x-python",
   "name": "python",
   "nbconvert_exporter": "python",
   "pygments_lexer": "ipython3",
   "version": "3.6.5"
  }
 },
 "nbformat": 4,
 "nbformat_minor": 2
}
