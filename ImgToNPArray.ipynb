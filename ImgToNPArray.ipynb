{
 "cells": [
  {
   "cell_type": "code",
   "execution_count": 46,
   "metadata": {},
   "outputs": [],
   "source": [
    "# imports\n",
    "import numpy as np\n",
    "from matplotlib import pyplot as plt\n",
    "import matplotlib\n",
    "from PIL import Image   \n",
    "import cv2\n",
    "import os\n",
    "\n"
   ]
  },
  {
   "cell_type": "code",
   "execution_count": 47,
   "metadata": {},
   "outputs": [],
   "source": [
    "def img_to_arr(img_directory, filename, store_directory):\n",
    "    \"\"\" flatten and store an image to a specified directory\"\"\"\n",
    "    img = cv2.imread(os.path.join(img_directory, filename))\n",
    "    filename = os.path.splitext(filename)[0]\n",
    "    size = img.shape[0] * img.shape[1]\n",
    "    IMG_COL = 300\n",
    "    IMG_ROW = 300\n",
    "    border_v = 0\n",
    "    border_h = 0\n",
    "    if (IMG_COL/IMG_ROW) >= (img.shape[0]/img.shape[1]):\n",
    "        border_v = int((((IMG_COL/IMG_ROW)*img.shape[1])-img.shape[0])/2)\n",
    "    else:\n",
    "        border_h = int((((IMG_ROW/IMG_COL)*img.shape[0])-img.shape[1])/2)\n",
    "    img = cv2.copyMakeBorder(img, border_v, border_v, border_h, border_h, cv2.BORDER_CONSTANT, 0)\n",
    "    img = cv2.resize(img, (IMG_ROW, IMG_COL))\n",
    "#     img = np.ravel(img)\n",
    "#     img = np.append(img, size)\n",
    "    print(filename)\n",
    "    np.save(os.path.join(store_directory, filename + '.npy'), img)\n",
    "    "
   ]
  },
  {
   "cell_type": "markdown",
   "metadata": {},
   "source": [
    "$\\text{Now we convert all images in 'imgs/' file to np arrays in 'imgarr/' folder}$"
   ]
  },
  {
   "cell_type": "code",
   "execution_count": 48,
   "metadata": {},
   "outputs": [],
   "source": [
    "def transform_all_imgs(img_dir, store_dir, ext):\n",
    "#     f = open('test_labels.txt', 'w')\n",
    "    count = 0\n",
    "    for file in os.listdir(img_dir):\n",
    "        if file.endswith(ext):\n",
    "            img_to_arr(img_dir, file, store_dir)\n",
    "            count += 1\n",
    "#     for i in range(1, count + 1):\n",
    "#         f.write('firste6p1_'+str(i)+\":\\n\")\n",
    "#     f.close()\n",
    "            \n",
    "transform_all_imgs('test_imgs', 'test_imgarr', '.png')"
   ]
  },
  {
   "cell_type": "code",
   "execution_count": 23,
   "metadata": {},
   "outputs": [],
   "source": []
  },
  {
   "cell_type": "code",
   "execution_count": null,
   "metadata": {},
   "outputs": [],
   "source": []
  },
  {
   "cell_type": "code",
   "execution_count": null,
   "metadata": {},
   "outputs": [],
   "source": []
  },
  {
   "cell_type": "code",
   "execution_count": null,
   "metadata": {},
   "outputs": [],
   "source": []
  },
  {
   "cell_type": "code",
   "execution_count": null,
   "metadata": {},
   "outputs": [],
   "source": []
  },
  {
   "cell_type": "code",
   "execution_count": null,
   "metadata": {},
   "outputs": [],
   "source": []
  },
  {
   "cell_type": "code",
   "execution_count": null,
   "metadata": {},
   "outputs": [],
   "source": []
  },
  {
   "cell_type": "code",
   "execution_count": null,
   "metadata": {},
   "outputs": [],
   "source": []
  },
  {
   "cell_type": "code",
   "execution_count": null,
   "metadata": {},
   "outputs": [],
   "source": []
  },
  {
   "cell_type": "code",
   "execution_count": null,
   "metadata": {},
   "outputs": [],
   "source": []
  },
  {
   "cell_type": "code",
   "execution_count": null,
   "metadata": {},
   "outputs": [],
   "source": []
  }
 ],
 "metadata": {
  "kernelspec": {
   "display_name": "Python 3",
   "language": "python",
   "name": "python3"
  },
  "language_info": {
   "codemirror_mode": {
    "name": "ipython",
    "version": 3
   },
   "file_extension": ".py",
   "mimetype": "text/x-python",
   "name": "python",
   "nbconvert_exporter": "python",
   "pygments_lexer": "ipython3",
   "version": "3.6.5"
  }
 },
 "nbformat": 4,
 "nbformat_minor": 2
}
